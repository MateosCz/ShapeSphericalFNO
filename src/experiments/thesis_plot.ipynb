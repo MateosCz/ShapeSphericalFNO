{
 "cells": [
  {
   "cell_type": "code",
   "execution_count": 1,
   "metadata": {},
   "outputs": [],
   "source": [
    "import pyvista as pv\n",
    "import sys\n",
    "import os\n",
    "cwd = os.getcwd()\n",
    "parent_dir = os.path.dirname(cwd)\n",
    "parent_dir = os.path.dirname(parent_dir)\n",
    "cwd = parent_dir\n",
    "sys.path.append(parent_dir)\n",
    "project_root = parent_dir\n"
   ]
  },
  {
   "cell_type": "code",
   "execution_count": 2,
   "metadata": {},
   "outputs": [
    {
     "name": "stdout",
     "output_type": "stream",
     "text": [
      "[polyscope] Backend: openGL3_glfw -- Loaded openGL version: 4.1 (Core Profile) Mesa 23.2.1-1ubuntu3.1~22.04.3\n"
     ]
    }
   ],
   "source": [
    "# pv.set_jupyter_backend('static')\n",
    "store_path = project_root + \"/figures/\"\n",
    "load_path = project_root + \"/data/test_meshes/bunny.obj\"\n",
    "# mesh = pv.read(filepath)\n",
    "\n",
    "# plotter = pv.Plotter()\n",
    "# plotter.add_mesh(mesh, color='grey')\n",
    "# plotter.show(interactive_update=True)\n",
    "# print(plotter.camera_position)\n",
    "\n",
    "\n",
    "\n",
    "import polyscope as ps\n",
    "import numpy as np\n",
    "import trimesh\n",
    "ps.remove_all_structures()\n",
    "# 初始化\n",
    "ps.init()\n",
    "\n",
    "# 加载 mesh，比如 bunny.obj\n",
    "mesh = trimesh.load(load_path)\n",
    "vertices = mesh.vertices\n",
    "faces = mesh.faces\n",
    "\n",
    "# 注册到 Polyscope\n",
    "ps.register_surface_mesh(\"bunny\", vertices, faces)\n",
    "ps.set_window_size(800, 600)\n",
    "# 启动交互窗口（点击旋转视图、然后按 s 截图）\n",
    "ps.show()\n",
    "file_name = \"bunny_mesh.png\"\n",
    "\n",
    "ps.screenshot(store_path + file_name, transparent_bg=True)"
   ]
  },
  {
   "cell_type": "code",
   "execution_count": 3,
   "metadata": {},
   "outputs": [],
   "source": [
    "# 初始化\n",
    "ps.remove_all_structures()\n",
    "ps.init()\n",
    "\n",
    "# 加载 mesh，比如 bunny.obj\n",
    "mesh = trimesh.load(load_path)\n",
    "vertices = mesh.vertices\n",
    "faces = mesh.faces\n",
    "\n",
    "# 注册到 Polyscope\n",
    "# ps.register_surface_mesh(\"bunny\", vertices, faces)\n",
    "ps.register_point_cloud(\"bunny\", vertices)\n",
    "ps.set_window_size(800, 600)\n",
    "# 启动交互窗口（点击旋转视图、然后按 s 截图）\n",
    "ps.show()\n",
    "file_name = \"bunny_point_cloud.png\"\n",
    "\n",
    "ps.screenshot(store_path + file_name, transparent_bg=True)"
   ]
  }
 ],
 "metadata": {
  "kernelspec": {
   "display_name": "polyscope_env",
   "language": "python",
   "name": "python3"
  },
  "language_info": {
   "codemirror_mode": {
    "name": "ipython",
    "version": 3
   },
   "file_extension": ".py",
   "mimetype": "text/x-python",
   "name": "python",
   "nbconvert_exporter": "python",
   "pygments_lexer": "ipython3",
   "version": "3.12.9"
  }
 },
 "nbformat": 4,
 "nbformat_minor": 2
}
